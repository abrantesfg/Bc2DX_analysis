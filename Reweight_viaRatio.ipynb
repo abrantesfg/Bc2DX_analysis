{
 "cells": [
  {
   "cell_type": "code",
   "execution_count": 1,
   "id": "a84bcf38",
   "metadata": {},
   "outputs": [],
   "source": [
    "import numpy as np\n",
    "import pandas as pd\n",
    "#import root_pandas\n",
    "#from root_pandas import read_root, to_root\n",
    "import matplotlib\n",
    "import matplotlib.pyplot as plt\n",
    "from matplotlib import rc\n",
    "import math\n",
    "import scipy\n",
    "from scipy.optimize import curve_fit\n",
    "from scipy import interpolate\n",
    "import pickle\n",
    "from six.moves import cPickle\n",
    "import collections\n",
    "import uproot\n",
    "\n",
    "rc('font',**{'family':'serif','serif':['Roman']})\n",
    "rc('text', usetex=True)\n",
    "matplotlib.rcParams.update({'font.size': 18})"
   ]
  },
  {
   "cell_type": "code",
   "execution_count": 2,
   "id": "de860840",
   "metadata": {},
   "outputs": [],
   "source": [
    "def MakeHistogram_1D(sample, bins, weights = None, normed = False, density = None, range = None) :\n",
    "  hist = np.histogram(sample, bins = bins, normed = normed, weights = weights, density = density, range = range)\n",
    "  return hist[0]"
   ]
  },
  {
   "cell_type": "code",
   "execution_count": 3,
   "id": "eed6519e",
   "metadata": {},
   "outputs": [],
   "source": [
    "n_bins = 50\n",
    "\n",
    "tree = 'DecayTree'"
   ]
  },
  {
   "cell_type": "code",
   "execution_count": 4,
   "id": "46743c22",
   "metadata": {},
   "outputs": [],
   "source": [
    "vars_list = ['B_ptasy_1.50','log(B_LoKi_FDCHI2_BPV)','log(D0_LoKi_FDCHI2_BPV)','Bach_P','Bach_PT','D0_PT','log(Bach_IPCHI2_OWNPV)','log10(B_LoKi_MIPCHI2_PV)','log(D0_LoKi_MIPCHI2_PV)','B_LoKi_MAXDOCA','D0_LoKi_AMAXDOCA','log(1-B_LoKi_DIRA_BPV)','log(1-D0_LoKi_DIRA_BPV)','log10(B_LoKi_IP_BPV)','log10(D0_LoKi_IP_BPV)','log10(B_LoKi_RHO_BPV)','log10(B_LoKi_FD_BPV)','log10(D0_LoKi_RHO_BPV)','BDT','B_D0constPVconst_M','B_LoKi_LT_BPV']\n",
    "columns = ['B_ptasy_1.50','log(B_LoKi_FDCHI2_BPV)','log(D0_LoKi_FDCHI2_BPV)','Bach_P','Bach_PT','D0_PT','log(Bach_IPCHI2_OWNPV)','log10(B_LoKi_MIPCHI2_PV)','log(D0_LoKi_MIPCHI2_PV)','B_LoKi_MAXDOCA','D0_LoKi_AMAXDOCA','log(1-B_LoKi_DIRA_BPV)','log(1-D0_LoKi_DIRA_BPV)','log10(B_LoKi_IP_BPV)','log10(D0_LoKi_IP_BPV)','log10(B_LoKi_RHO_BPV)','log10(B_LoKi_FD_BPV)','log10(D0_LoKi_RHO_BPV)','BDT','B_D0constPVconst_M','B_LoKi_LT_BPV']\n",
    "\n",
    "\n",
    "vars_list_ratio = ['B_LoKi_LT_BPV']\n",
    "\n",
    "var_MC = vars_list.copy()\n",
    "var_MC.append('Bach_PIDK_corr')\n",
    "\n",
    "var_data = vars_list.copy()\n",
    "var_data.append('Bach_PIDK')\n",
    "\n",
    "ranges = {'B_LoKi_LT_BPV':[0,0.007]}\n",
    "label = {'B_LoKi_LT_BPV' : \"$B_{LT}$\"}"
   ]
  },
  {
   "cell_type": "code",
   "execution_count": 5,
   "id": "13a24688",
   "metadata": {},
   "outputs": [
    {
     "name": "stderr",
     "output_type": "stream",
     "text": [
      "/cvmfs/lhcb.cern.ch/lib/var/lib/LbEnv/2361/stable/linux-64/lib/python3.9/site-packages/uproot/interpretation/library.py:747: FutureWarning: pandas.Int64Index is deprecated and will be removed from pandas in a future version. Use pandas.Index with the appropriate dtype instead.\n",
      "  return (getattr(pandas, \"RangeIndex\", pandas.Int64Index), pandas.Int64Index)\n",
      "/cvmfs/lhcb.cern.ch/lib/var/lib/LbEnv/2361/stable/linux-64/lib/python3.9/site-packages/uproot/interpretation/library.py:747: FutureWarning: pandas.Int64Index is deprecated and will be removed from pandas in a future version. Use pandas.Index with the appropriate dtype instead.\n",
      "  return (getattr(pandas, \"RangeIndex\", pandas.Int64Index), pandas.Int64Index)\n"
     ]
    }
   ],
   "source": [
    "Bmc_file = uproot.open('/data/lhcb/users/abrantes/Bc2DX_crosscheck/BDT_efficiency/Reweight/full_dataset/tuples/MC/Total_Bu2DPi_Cuts_PIDCorr_xgboostBDT_masscuts_fulldataset.root', branches=var_MC)\n",
    "Bcmc_file = uproot.open('/data/lhcb/users/abrantes/Bc2DX_crosscheck/BDT_efficiency/Reweight/full_dataset/tuples/MC/Total_Bc2DPi_Cuts_PIDCorr_xgboostBDT_masscuts_fulldataset.root', branches=var_MC)\n",
    "\n",
    "Bmc_tree = Bmc_file['DecayTree']\n",
    "Bcmc_tree = Bcmc_file['DecayTree']\n",
    "\n",
    "\n",
    "df_Bmc = Bmc_tree.arrays(var_MC, 'Bach_PIDK_corr<1 & (B_D0constPVconst_M>5150) & (B_D0constPVconst_M<5400) ',library=\"pd\")\n",
    "df_Bcmc = Bcmc_tree.arrays(var_MC,'Bach_PIDK_corr<1 & (B_D0constPVconst_M>6150) & (B_D0constPVconst_M<6400)',library=\"pd\")\n",
    "\n",
    "# apply cuts\n",
    "#Bmass_window = (5150,5400)\n",
    "#Bcmass_window = (6150,6400)\n",
    "\n",
    "#df_Bmc = df_Bmc.loc[(df_Bmc['B_D0constPVconst_M'] >= Bmass_window[0]) & (df_Bmc['B_D0constPVconst_M'] <= Bmass_window[1])]\n",
    "#df_Bcmc = df_Bcmc.loc[(df_Bcmc['B_D0constPVconst_M'] >= Bcmass_window[0]) & (df_Bcmc['B_D0constPVconst_M'] <= Bcmass_window[1])]\n",
    "\n",
    "df_Bmc.dropna(inplace=True)\n",
    "df_Bcmc.dropna(inplace=True)\n",
    "\n",
    "label = {'B_LoKi_LT_BPV' : 'B LT'}"
   ]
  },
  {
   "cell_type": "code",
   "execution_count": 6,
   "id": "989f31de",
   "metadata": {},
   "outputs": [
    {
     "name": "stdout",
     "output_type": "stream",
     "text": [
      "plotting Bu MC vs Bc MC variables used in the ratio\n"
     ]
    },
    {
     "data": {
      "image/png": "[encoded data removed]",
      "text/plain": [
       "<Figure size 504x504 with 1 Axes>"
      ]
     },
     "metadata": {
      "needs_background": "light"
     },
     "output_type": "display_data"
    }
   ],
   "source": [
    "print('plotting Bu MC vs Bc MC variables used in the ratio')\n",
    "\n",
    "for v in vars_list_ratio:\n",
    "\n",
    "    df_Bmc = df_Bmc[df_Bmc[v].between(df_Bmc[v].min(),df_Bmc[v].max())]\n",
    "\n",
    "    fig, ax = plt.subplots(figsize=(7,7))\n",
    "\n",
    "    #plt.errorbar(bin_centres, counts, yerr=err, fmt='o')\n",
    "    plt.hist(df_Bcmc[v],bins=n_bins,histtype='step',color='green',label='Bc MC',range=ranges[v],density=True)\n",
    "    plt.hist(df_Bmc[v],bins=n_bins,histtype='step',color='crimson',label='B MC',range=ranges[v],density=True)\n",
    "\n",
    "    \n",
    "    plt.xlabel(label[v])\n",
    "    plt.xlim(ranges[v])\n",
    "    plt.legend(fontsize=14)\n",
    "    plt.show()\n",
    "    plt.savefig('figs/compare_plots/%s.pdf' % v)\n",
    "    plt.close()"
   ]
  },
  {
   "cell_type": "code",
   "execution_count": 7,
   "id": "b0070f49",
   "metadata": {},
   "outputs": [],
   "source": [
    "df_Bmc['MC_weights'] = 1\n",
    "\n",
    "tck_dict = {}"
   ]
  },
  {
   "cell_type": "code",
   "execution_count": 8,
   "id": "11e39c59",
   "metadata": {},
   "outputs": [
    {
     "name": "stdout",
     "output_type": "stream",
     "text": [
      "Starting variable: B_LoKi_LT_BPV\n"
     ]
    },
    {
     "data": {
      "image/png": "[encoded data removed]",
      "text/plain": [
       "<Figure size 504x504 with 1 Axes>"
      ]
     },
     "metadata": {
      "needs_background": "light"
     },
     "output_type": "display_data"
    },
    {
     "name": "stdout",
     "output_type": "stream",
     "text": [
      "0         0.161611\n",
      "1         0.717407\n",
      "2         1.185531\n",
      "3         0.193767\n",
      "4         0.372822\n",
      "            ...   \n",
      "408507    0.895998\n",
      "408508    0.084117\n",
      "408509    0.577369\n",
      "408510    1.322894\n",
      "408512    0.029108\n",
      "Name: MC_weights, Length: 373891, dtype: float64\n"
     ]
    },
    {
     "data": {
      "image/png": "[encoded data removed]",
      "text/plain": [
       "<Figure size 432x288 with 1 Axes>"
      ]
     },
     "metadata": {
      "needs_background": "light"
     },
     "output_type": "display_data"
    }
   ],
   "source": [
    "# ratio histograms\n",
    "\n",
    "ratio_bins = 10\n",
    "\n",
    "for v in vars_list_ratio:\n",
    "\n",
    "    print(\"Starting variable: %s\" %v)\n",
    "\n",
    "    df_Bmc = df_Bmc[df_Bmc[v].between(ranges[v][0],ranges[v][1])]\n",
    "    df_Bcmc = df_Bcmc[df_Bcmc[v].between(ranges[v][0],ranges[v][1])]\n",
    "\n",
    "    Bmc_size = df_Bmc.count()[0]\n",
    "    Bcmc_size = df_Bcmc.count()[0]\n",
    "\n",
    "    # create ratio hists and apply weights\n",
    "    binning = np.linspace(df_Bcmc[v].min(),df_Bcmc[v].max(),ratio_bins+1)\n",
    "\n",
    "    Bcmc_vals, Bcmc_edges = np.histogram(df_Bcmc[v],bins=binning,density=True)\n",
    "    Bmc_vals, Bmc_edges = np.histogram(df_Bmc[v],bins=binning,density=True,weights=df_Bmc['MC_weights'])\n",
    "\n",
    "    ratio = Bcmc_vals/Bmc_vals\n",
    "\n",
    "    Bmc_counts = Bmc_vals*Bmc_size\n",
    "    Bcmc_counts = Bcmc_vals*Bcmc_size\n",
    "    err = ratio * np.sqrt(1/abs(Bmc_counts) + 1/abs(Bcmc_counts))\n",
    "\n",
    "    centres = (Bcmc_edges[:-1] + Bcmc_edges[1:])/2.\n",
    "\n",
    "    # calculate spline\n",
    "    tck = interpolate.splrep(centres, ratio, k=3, w=1.0/err)\n",
    "    spline_x = np.linspace(df_Bmc[v].min(),df_Bmc[v].max(),1000)\n",
    "    spline_val = interpolate.splev(spline_x, tck, der=0)\n",
    "\n",
    "    fig, ax = plt.subplots(figsize=(7,7))\n",
    "    plt.errorbar(centres,ratio,yerr=err,fmt='ko',markersize=3)\n",
    "    plt.plot(spline_x,spline_val)\n",
    "    plt.xlabel(label[v])\n",
    "    plt.xlim(ranges[v])\n",
    "    plt.show()\n",
    "    plt.savefig('figs/ratios/%s_ratio.pdf' %v)\n",
    "    plt.close()\n",
    "    \n",
    "    # calculate weight for each MC event and save\n",
    "    Bmc_weights = interpolate.splev(df_Bmc[v].to_numpy(), tck)\n",
    "\n",
    "    # Update weights\n",
    "    df_Bmc['MC_weights'] = df_Bmc['MC_weights']*Bmc_weights\n",
    "\n",
    "    print(df_Bmc['MC_weights'])\n",
    "    \n",
    "    # Plot MCs with weigth\n",
    "    plt.hist(df_Bcmc[v],bins=n_bins,histtype='step',color='green',label='Bc MC',range=ranges[v],density=True)\n",
    "    plt.hist(df_Bmc[v],bins=n_bins,histtype='step',color='crimson',label='B MC - with weights',range=ranges[v],density=True,weights=df_Bmc['MC_weights'])\n",
    "\n",
    "    #plt.show()\n",
    "    plt.xlabel(label[v])\n",
    "    plt.xlim(ranges[v])\n",
    "    plt.legend(fontsize=14)\n",
    "    plt.show()\n",
    "    plt.savefig('figs/compare_plots/%s_weight.pdf' % v)\n",
    "    plt.close()\n",
    "    \n",
    "    f = open('figs/weights/MC_with_weights.pkl', 'wb')\n",
    "    cPickle.dump(df_Bmc, f, protocol=cPickle.HIGHEST_PROTOCOL)\n",
    "    f.close()\n",
    "\n",
    "    #Store the polynomial order and the list of param values\n",
    "    tck_dict[v] = tck\n",
    "    f = open('figs/splines/%s_tck_corrs.pkl' % v, 'wb')\n",
    "    cPickle.dump(tck_dict[v], f, protocol=cPickle.HIGHEST_PROTOCOL)\n",
    "    f.close()"
   ]
  },
  {
   "cell_type": "code",
   "execution_count": 9,
   "id": "88ab02e3",
   "metadata": {},
   "outputs": [
    {
     "data": {
      "image/png": "[encoded data removed]",
      "text/plain": [
       "<Figure size 504x504 with 1 Axes>"
      ]
     },
     "metadata": {
      "needs_background": "light"
     },
     "output_type": "display_data"
    }
   ],
   "source": [
    "# make histogram of final weights\n",
    "\n",
    "weight_vals,weight_edges = np.histogram(df_Bmc['MC_weights'],bins=100,range=[0,1])\n",
    "weight_centres = (weight_edges[:-1] + weight_edges[1:])/2.\n",
    "Bmc_size = df_Bmc.count()[0]\n",
    "#weight_err = np.sqrt(weight_vals/MC_size)\n",
    "weight_err = np.sqrt(weight_vals)\n",
    "\n",
    "fig, ax = plt.subplots(figsize=(7,7))\n",
    "plt.errorbar(weight_centres,weight_vals,yerr=weight_err,fmt='ko',markersize=2,label='Weight')\n",
    "plt.xlabel('Weight')\n",
    "plt.ylabel('Arbitrary units')\n",
    "plt.xlim(0,1)\n",
    "plt.ylim(bottom=0)\n",
    "plt.tight_layout()\n",
    "plt.show()\n",
    "plt.savefig('figs/weights/final_weights.pdf')\n",
    "plt.close()"
   ]
  },
  {
   "cell_type": "code",
   "execution_count": 10,
   "id": "fefa58d0",
   "metadata": {},
   "outputs": [],
   "source": [
    "# save Bu MC with weights\n",
    "mc_out = uproot.recreate(\"tuples/MC/Total_Bu2DPi_Cuts_PIDCorr_xgboostBDT_masscuts_fulldataset_LTreweighted.root\")\n",
    "mc_out[\"DecayTree\"] = df_Bmc"
   ]
  },
  {
   "cell_type": "code",
   "execution_count": 11,
   "id": "406aa82f",
   "metadata": {},
   "outputs": [
    {
     "name": "stderr",
     "output_type": "stream",
     "text": [
      "/cvmfs/lhcb.cern.ch/lib/var/lib/LbEnv/2361/stable/linux-64/lib/python3.9/site-packages/uproot/interpretation/library.py:747: FutureWarning: pandas.Int64Index is deprecated and will be removed from pandas in a future version. Use pandas.Index with the appropriate dtype instead.\n",
      "  return (getattr(pandas, \"RangeIndex\", pandas.Int64Index), pandas.Int64Index)\n"
     ]
    }
   ],
   "source": [
    "# apply weight to Bu2DPi data\n",
    "Bdata_file = uproot.open('/data/lhcb/users/abrantes/Bc2DX_crosscheck/BDT_efficiency/Reweight/full_dataset/tuples/data/Total_Bu2DPi_Cuts_xgboostBDT_masscuts_fulldataset.root', branches=var_data)\n",
    "\n",
    "Bdata_tree = Bdata_file['DecayTree']\n",
    "\n",
    "df_Bdata = Bdata_tree.arrays(var_data, 'Bach_PIDK<1 & (B_D0constPVconst_M>5150) & (B_D0constPVconst_M<5400)',library=\"pd\")\n",
    "\n",
    "df_Bdata['weights'] = 1\n",
    "df_toweight = df_Bdata.copy()\n",
    "\n",
    "df_Bdata['inrange'] = 1"
   ]
  },
  {
   "cell_type": "code",
   "execution_count": 12,
   "id": "4b31332e",
   "metadata": {},
   "outputs": [
    {
     "name": "stdout",
     "output_type": "stream",
     "text": [
      "Starting variable: B_LoKi_LT_BPV\n",
      "1           0.602421\n",
      "2           2.794355\n",
      "3           0.149751\n",
      "6           0.972711\n",
      "7           1.562496\n",
      "              ...   \n",
      "23708890    0.086199\n",
      "23708891    0.261152\n",
      "23708892    0.642522\n",
      "23708893    0.999148\n",
      "23708894    0.789330\n",
      "Name: weights, Length: 19240878, dtype: float64\n",
      "# Events before: 19437086\n",
      "# Events after: 19240878\n",
      "Check ranges: 19240878\n",
      "---------------------\n",
      "Max weight: 4.1086684718529005\n",
      "Min weight: 0.0008481492539657404\n"
     ]
    }
   ],
   "source": [
    "for v in vars_list_ratio:\n",
    "    print(\"Starting variable: %s\" %v)\n",
    "\n",
    "    df_toweight = df_toweight[(df_toweight[v] >= ranges[v][0]) & (df_toweight[v] <= ranges[v][1])]\n",
    "\n",
    "    #check if event falls outside the range\n",
    "    df_Bdata.loc[(df_Bdata[v]<ranges[v][0]) | (df_Bdata[v]>ranges[v][1]),\"inrange\"] = 0\n",
    "\n",
    "    f = open('figs/splines/%s_tck_corrs.pkl' % v, 'rb')\n",
    "    tck = cPickle.load(f)\n",
    "    f.close()\n",
    "\n",
    "    df_toweight[\"tck_vals_{}\".format(v)] = interpolate.splev(df_toweight[v], tck, der=0)\n",
    "    df_toweight['weights'] = df_toweight['weights'] * df_toweight[\"tck_vals_{}\".format(v)]\n",
    "    print(df_toweight['weights'])\n",
    "\n",
    "print('# Events before:',df_Bdata.count()[0])\n",
    "print('# Events after:',df_toweight.count()[0])\n",
    "print('Check ranges:',np.sum(df_Bdata['inrange']))\n",
    "print('---------------------')\n",
    "print('Max weight:',df_toweight['weights'].max())\n",
    "print('Min weight:',df_toweight['weights'].min())"
   ]
  },
  {
   "cell_type": "code",
   "execution_count": 13,
   "id": "5074d62b",
   "metadata": {},
   "outputs": [],
   "source": [
    "#append weights to dataframe, assign weight of 1 to events outside range\n",
    "df_Bdata['weights'] = df_toweight['weights']\n",
    "df_Bdata['weights'] = df_Bdata['weights'].fillna(1)"
   ]
  },
  {
   "cell_type": "code",
   "execution_count": 14,
   "id": "716093e3",
   "metadata": {},
   "outputs": [],
   "source": [
    "# Output dataframe with weights\n",
    "#import awkward as ak\n",
    "data_out = uproot.recreate(\"tuples/data/Total_Bu2DPi_Cuts_xgboostBDT_masscuts_fulldataset_LTreweighted.root\")\n",
    "data_out[\"DecayTree\"] = df_Bdata"
   ]
  },
  {
   "cell_type": "code",
   "execution_count": 15,
   "id": "8e0b0976",
   "metadata": {},
   "outputs": [
    {
     "data": {
      "image/png": "[encoded data removed]",
      "text/plain": [
       "<Figure size 504x504 with 1 Axes>"
      ]
     },
     "metadata": {
      "needs_background": "light"
     },
     "output_type": "display_data"
    }
   ],
   "source": [
    "for v in vars_list_ratio:\n",
    "    fig, ax = plt.subplots(figsize=(7,7))\n",
    "    #plt.hist(df_Bcmc[v],bins=n_bins,histtype='step',color='red',label='Bc MC',range=ranges[v],density=True)\n",
    "    plt.hist(df_Bdata[v],histtype='step',bins=n_bins,color='blue',label='B Data - no weights',range=ranges[v],density=True)\n",
    "    plt.hist(df_Bdata[v],histtype='step',bins=n_bins,color='green',label='B Data - with weights',range=ranges[v],density=True,weights=df_Bdata['weights'])\n",
    "    plt.xlabel(label[v])\n",
    "    plt.legend(loc='upper center', bbox_to_anchor=(0.5, 1.1), fancybox=False, shadow=False,ncol=2)\n",
    "    plt.xlim(ranges[v])\n",
    "    plt.ylim(bottom=0)\n",
    "    plt.show()\n",
    "    plt.savefig('figs/reweighted_plots/%s.pdf' %v)\n",
    "    plt.close()"
   ]
  },
  {
   "cell_type": "code",
   "execution_count": null,
   "id": "0b609b8a",
   "metadata": {},
   "outputs": [],
   "source": []
  }
 ],
 "metadata": {
  "kernelspec": {
   "display_name": "Python 3 (ipykernel)",
   "language": "python",
   "name": "python3"
  },
  "language_info": {
   "codemirror_mode": {
    "name": "ipython",
    "version": 3
   },
   "file_extension": ".py",
   "mimetype": "text/x-python",
   "name": "python",
   "nbconvert_exporter": "python",
   "pygments_lexer": "ipython3",
   "version": "3.9.10"
  }
 },
 "nbformat": 4,
 "nbformat_minor": 5
}
